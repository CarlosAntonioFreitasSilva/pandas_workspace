{
 "cells": [
  {
   "cell_type": "markdown",
   "metadata": {},
   "source": [
    "# Backend com Python\n",
    "\n",
    "Para desenvolver a aplicação backend vamos utilizar o FastAPI que é um framework web para construção de aplicações Python baseado em padrões abertos\n",
    " - OpenAPI para criações de API, incluindo declarações de operações de rota, parâmetros, corpo de requisições\n",
    " - Modelo de dados com JSON Schema\n",
    "\n",
    "Para instalar o FastAPI utilizamos no prompt de comando, do sistema operacional\n",
    "\n",
    "`pip install fastapi[all]`\n",
    "\n",
    "\n",
    "Comentários:\n",
    "- Existem outros frameworks tais como Roadmap e Django para desenvolver aplicações python.\n",
    "- No PHP existe o framework Lavarel que utiliza o padrão de operações de rota\n",
    "\n",
    "## App Ola Mundo\n",
    "Crie o arquivo `main.py` para implementarmos o código.\n",
    "\n",
    "### Importando FastAPI"
   ]
  },
  {
   "cell_type": "code",
   "execution_count": null,
   "metadata": {},
   "outputs": [],
   "source": [
    "from fastapi import FastAPI"
   ]
  },
  {
   "cell_type": "markdown",
   "metadata": {},
   "source": [
    "### Criando instância\n",
    "\n",
    "Criamos uma instância da classe `FastAPI` e armazenamos numa variável no qual chamaremos de `app`"
   ]
  },
  {
   "cell_type": "code",
   "execution_count": null,
   "metadata": {},
   "outputs": [],
   "source": [
    "from fastapi import FastAPI\n",
    "\n",
    "app = FastAPI()"
   ]
  },
  {
   "cell_type": "markdown",
   "metadata": {},
   "source": [
    "### Criando operações de rotas\n",
    "\n",
    "Uma rota é a última parta da URL que começa a partir de `/`\n",
    "\n",
    "As operações de métodos HTTP\n",
    "- `GET`\n",
    "- `POST`\n",
    "- `PUT`\n",
    "- `DELETE`\n",
    "\n",
    "Vamos criar uma operação `GET` cuja rota é `/`"
   ]
  },
  {
   "cell_type": "code",
   "execution_count": null,
   "metadata": {},
   "outputs": [],
   "source": [
    "from fastapi import FastAPI\n",
    "\n",
    "app = FastAPI()\n",
    "\n",
    "@app.get(\"/\")\n",
    "def root():\n",
    "    return {\"message\":\"Olá, mundo\"}"
   ]
  },
  {
   "cell_type": "markdown",
   "metadata": {},
   "source": [
    "Ao acessar a rota `/` usando a operação `GET` teremos como retorno o `dict`. \n",
    "\n",
    "Podemos retornar `list` e outros tipos de dados como `string`, `int`, modelos `Pydantic` e etc.\n",
    "\n",
    "Para retornar HTML devemos importar `HTMLResponse` e adicionamos o parâmetro `response_class=HTMLResponse` na operação `GET`. Para exemplificar, vamos criar um rota `/html` que retorna uma página HTML. "
   ]
  },
  {
   "cell_type": "code",
   "execution_count": null,
   "metadata": {},
   "outputs": [],
   "source": [
    "from fastapi import FastAPI\n",
    "from fastapi.responses import HTMLResponse\n",
    "\n",
    "\n",
    "app = FastAPI()\n",
    "\n",
    "\n",
    "@app.get('/')\n",
    "def root():\n",
    "    return {\"message\": \"Olá, mundo\"}\n",
    "\n",
    "@app.get('/html', response_class=HTMLResponse)\n",
    "def root():\n",
    "    return \"\"\"\n",
    "    <!DOCTYPE html>\n",
    "    <html lang=\"pt-br\">\n",
    "        <head>\n",
    "            <title>APP Hello</title>\n",
    "        </head>\n",
    "        <body>\n",
    "            <h1>Olá, mundo!</h1>\n",
    "            <p>Esta é minha primeira página HTML</p>\n",
    "        </body>\n",
    "    </html>"
   ]
  },
  {
   "cell_type": "markdown",
   "metadata": {},
   "source": [
    "### Executando o código\n",
    "\n",
    "Para executar o código acessamos o diretório do arquivo onde está a nossa aplicação, nesse caso, o arquivo `main.py` e digitamos o comando para iniciarmos o servidor\n",
    "\n",
    "`uvicorn main: app --reload`\n",
    "\n",
    "Observe que foi utilizado o nome do arquivo `main` e nome da variável que armazena a instância da classe `FastAPI` que é `app`.\n",
    "\n",
    "Após o servidor ter sido inicializado acesse\n",
    "\n",
    "\n",
    "- `http://127.0.0.1:8000/`\n",
    "- `http://127.0.0.1:8000/html`\n",
    "\n",
    "\n"
   ]
  },
  {
   "cell_type": "markdown",
   "metadata": {},
   "source": [
    "## Parâmetros de rotas"
   ]
  },
  {
   "cell_type": "code",
   "execution_count": null,
   "metadata": {},
   "outputs": [],
   "source": [
    "@app.get(\"/ola\")\n",
    "def root(nome):\n",
    "    return \"Olá \" + nome.capitalize()"
   ]
  },
  {
   "cell_type": "markdown",
   "metadata": {},
   "source": [
    "O método `capitalize()` foi utilizado para a primeira letra do nome ficar maiúscula.\n",
    "\n",
    "Para passar parâmetros pelo URL utilizamos `URL/ola/?nome=arg`. No nosso caso acessamos\n",
    "`http://127.0.0.1:8000/ola/?nome=carlos`\n",
    "\n",
    "\n",
    "Parei de estudar em https://fastapi.tiangolo.com/tutorial/query-params/"
   ]
  },
  {
   "cell_type": "markdown",
   "metadata": {},
   "source": [
    "# Cliente Servidor\n",
    "\n",
    "Para enviar requisições HTTP do lado do cliente podemos utilizar o Axios que é um cliente HTTP baseado em promessas e utiliza `XMLHttpRequest` do Javascript no lado do cliente e roda no lado do servidor utilizando `node.js`\n",
    "\n",
    "Vamos criar uma página HTML com formulário que envia nome e número de telefone para o servidor pelo Javascript.\n",
    "\n",
    "## Lado do cliente\n",
    "\n",
    "Vamos criar a página `index.html`"
   ]
  },
  {
   "cell_type": "code",
   "execution_count": null,
   "metadata": {
    "vscode": {
     "languageId": "html"
    }
   },
   "outputs": [],
   "source": [
    "<!DOCTYPE html>\n",
    "<html lang=\"pt-br\">\n",
    "\n",
    "<head>\n",
    "    <meta charset=\"UTF-8\">\n",
    "    <meta name=\"viewport\" content=\"width=device-width, initial-scale=1.0\">\n",
    "    <title>Document</title>\n",
    "    <script src=\"https://cdn.jsdelivr.net/npm/axios/dist/axios.min.js\"></script>\n",
    "</head>\n",
    "\n",
    "<body>\n",
    "    <form id=\"form\">\n",
    "        <input type=\"text\" id=\"nome\" placeholder=\"Nome\">\n",
    "        <input type=\"text\" id=\"celular\" placeholder=\"Celular\">\n",
    "        <input type=\"submit\" value=\"OK\" id=\"submit\">\n",
    "    </form>\n",
    "</body>\n",
    "\n",
    "</html>"
   ]
  },
  {
   "cell_type": "markdown",
   "metadata": {},
   "source": [
    "Adicionamos a tag `script` para usar o Axios via CDN do jsDelivr. "
   ]
  },
  {
   "cell_type": "code",
   "execution_count": null,
   "metadata": {
    "vscode": {
     "languageId": "html"
    }
   },
   "outputs": [],
   "source": [
    "<script src=\"https://cdn.jsdelivr.net/npm/axios/dist/axios.min.js\"></script>"
   ]
  },
  {
   "cell_type": "markdown",
   "metadata": {},
   "source": [
    "Criamos um arquivo Javascript que vamos chamar de `index.js` e adicionamos a tag no arquivo `index.html.`"
   ]
  },
  {
   "cell_type": "code",
   "execution_count": null,
   "metadata": {
    "vscode": {
     "languageId": "html"
    }
   },
   "outputs": [],
   "source": [
    "<script src=\"index.js\"></script>"
   ]
  },
  {
   "cell_type": "markdown",
   "metadata": {},
   "source": [
    "No arquivo `index.js` vamos implementar o código que adiciona o evento `submit` no formulário e ao ser acionado criamos uma função anônima para manipular o evento. \n",
    "\n",
    "**Observação:** No nosso exemplo a aplicação que irá receber os dados do formulário estará em `http://127.0.0.1:8000/gravar/` que iremos implementar logo adiante. Criaremos um arquivo python com a rota `/gravar` que utiliza a operação `POST`."
   ]
  },
  {
   "cell_type": "code",
   "execution_count": null,
   "metadata": {
    "vscode": {
     "languageId": "javascript"
    }
   },
   "outputs": [],
   "source": [
    "window.onload = function () {\n",
    "    document.getElementById(\"form\").onsubmit = function (event) {\n",
    "        \n",
    "        event.preventDefault()  //para não dar refresh na página quando acontecer o submit\n",
    "        const nome = document.getElementById('nome')\n",
    "        const celular = document.getElementById('celular')\n",
    "\n",
    "        axios.post('http://127.0.0.1:8000/gravar/', {\n",
    "            nome: nome.value,\n",
    "            celular: celular.value\n",
    "        })\n",
    "            .then(function (response) {\n",
    "                // manipula o sucesso da requisição\n",
    "                console.log(response);\n",
    "            })\n",
    "            .catch(function (error) {\n",
    "                // manipula erros da requisição\n",
    "                console.error(error);\n",
    "            })\n",
    "            .finally(function () {\n",
    "                // sempre será executado\n",
    "            });\n",
    "    }\n",
    "\n",
    "\n",
    "}"
   ]
  },
  {
   "cell_type": "markdown",
   "metadata": {},
   "source": [
    "## Lado do servidor\n",
    "A aplicação que roda no lado servidor que será chamada main.py\n",
    "\n",
    "Vamos criar a rota `\\gravar` que recebe os dados `nome` e `celular` enviados pelo formulário pela operação `POST`.\n",
    "\n"
   ]
  },
  {
   "cell_type": "code",
   "execution_count": null,
   "metadata": {},
   "outputs": [],
   "source": [
    "from fastapi import FastAPI\n",
    "from fastapi.middleware.cors import CORSMiddleware\n",
    "\n",
    "\n",
    "app = FastAPI()\n",
    "\n",
    "origins = ['http://127.0.0.1:5500']\n",
    "\n",
    "app.add_middleware(\n",
    "    CORSMiddleware,\n",
    "    allow_origins=origins,\n",
    "    allow_credentials=True,\n",
    "    allow_methods=[\"*\"],\n",
    "    allow_headers=[\"*\"]\n",
    ")\n",
    "\n",
    "\n",
    "@app.post('/gravar/')\n",
    "def root(): \n",
    "    return {\"message\":\"ok\"}"
   ]
  },
  {
   "cell_type": "markdown",
   "metadata": {},
   "source": [
    "A requisição vem do hots `http://127.0.0.1:5500` e a aplicação está em `http://127.0.0.1:8000`. Temos uma requisição vinda de um host externo. Utilizamos `CORSMiddleware` para permitir que a aplicação possa receber requisições de outras origens. Essa é política de segurança do CORS.\n",
    "\n",
    "Até aqui a nossa rota não está recebendo os dodos do formulário e quando o formulário é submetido penas recebemos uma mensagem de ok. Para receber os dados do formulário precisamos criar um modelo `BaseModel`."
   ]
  },
  {
   "cell_type": "code",
   "execution_count": null,
   "metadata": {},
   "outputs": [],
   "source": [
    "from fastapi import FastAPI\n",
    "from fastapi.middleware.cors import CORSMiddleware\n",
    "from pydantic import BaseModel\n",
    "\n",
    "app = FastAPI()\n",
    "\n",
    "origins = ['http://127.0.0.1:5500']\n",
    "\n",
    "app.add_middleware(\n",
    "    CORSMiddleware,\n",
    "    allow_origins=origins,\n",
    "    allow_credentials=True,\n",
    "    allow_methods=[\"*\"],\n",
    "    allow_headers=[\"*\"]\n",
    ")\n",
    "\n",
    "class Contato(BaseModel):\n",
    "    nome: str\n",
    "    celular: str\n",
    "\n",
    "@app.post('/gravar/')\n",
    "def root(contato: Contato): \n",
    "    return contato.nome + contato.celular"
   ]
  },
  {
   "cell_type": "markdown",
   "metadata": {},
   "source": [
    "Para que nossa aplicação fique mais completa podemos implementar um código que os dados do formulário sejam armazenados em um banco de dados.\n",
    "\n",
    "..."
   ]
  }
 ],
 "metadata": {
  "language_info": {
   "name": "python"
  },
  "orig_nbformat": 4
 },
 "nbformat": 4,
 "nbformat_minor": 2
}
