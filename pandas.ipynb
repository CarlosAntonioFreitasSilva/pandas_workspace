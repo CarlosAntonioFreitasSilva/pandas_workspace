{
 "cells": [
  {
   "attachments": {},
   "cell_type": "markdown",
   "metadata": {},
   "source": [
    "# Pandas\n"
   ]
  },
  {
   "cell_type": "code",
   "execution_count": 2,
   "metadata": {},
   "outputs": [],
   "source": [
    "import pandas as pd"
   ]
  },
  {
   "attachments": {},
   "cell_type": "markdown",
   "metadata": {},
   "source": [
    "Um objeto `DataFrame` tem uma estrutura de tabelas. Podemos transformar um objeto `dict` em um objeto `DataFrame`."
   ]
  },
  {
   "cell_type": "code",
   "execution_count": 3,
   "metadata": {},
   "outputs": [
    {
     "name": "stdout",
     "output_type": "stream",
     "text": [
      "<class 'pandas.core.frame.DataFrame'>\n"
     ]
    }
   ],
   "source": [
    "monitoring = {\n",
    "  \"Duration\": [60,60,60,45,45,30,30,45],\n",
    "  \"Pulse\":[110,117,103,109,117,102,110,104],\n",
    "  \"Maxpulse\": [130,145,135,175,148,127,136,134],\n",
    "  \"Calories\": [409.1,479.0,340.0,282.4,406.0,300.0,374.0,253.3]\n",
    "}\n",
    "\n",
    "#create a DataFrame object:\n",
    "data_dictionary = pd.DataFrame(monitoring)\n",
    "print(type(data_dictionary))"
   ]
  },
  {
   "attachments": {},
   "cell_type": "markdown",
   "metadata": {},
   "source": [
    "A variável `data_dictionary` é objeto `DataFrame` com estrutura de tabelas. Utilizamos o método `info()` para obter a estrutura da tabela e o método `head()` retorna os cinco primeiros registros. "
   ]
  },
  {
   "cell_type": "code",
   "execution_count": 4,
   "metadata": {},
   "outputs": [
    {
     "name": "stdout",
     "output_type": "stream",
     "text": [
      "<class 'pandas.core.frame.DataFrame'>\n",
      "RangeIndex: 8 entries, 0 to 7\n",
      "Data columns (total 4 columns):\n",
      " #   Column    Non-Null Count  Dtype  \n",
      "---  ------    --------------  -----  \n",
      " 0   Duration  8 non-null      int64  \n",
      " 1   Pulse     8 non-null      int64  \n",
      " 2   Maxpulse  8 non-null      int64  \n",
      " 3   Calories  8 non-null      float64\n",
      "dtypes: float64(1), int64(3)\n",
      "memory usage: 388.0 bytes\n",
      "None\n"
     ]
    }
   ],
   "source": [
    "print(data_dictionary.info())"
   ]
  },
  {
   "cell_type": "code",
   "execution_count": 5,
   "metadata": {},
   "outputs": [
    {
     "name": "stdout",
     "output_type": "stream",
     "text": [
      "   Duration  Pulse  Maxpulse  Calories\n",
      "0        60    110       130     409.1\n",
      "1        60    117       145     479.0\n",
      "2        60    103       135     340.0\n",
      "3        45    109       175     282.4\n",
      "4        45    117       148     406.0\n"
     ]
    }
   ],
   "source": [
    "print(data_dictionary.head())"
   ]
  },
  {
   "attachments": {},
   "cell_type": "markdown",
   "metadata": {},
   "source": [
    "### Selecionando colunas\n",
    "\n",
    "Para selecionar colunas de um `DataFrame` utilizamos o nome do objeto colocando entre colchetes as colunas desejadas, ou seja, `dataframe[\"column\"]`. Podemos utilizar a sintaxe com ponto `dataframe.colmun`. Temos no exemplo a seguir a seleção da coluna `\"Duration\"` do dataframe `data_dictionary` armazenado na variável `select_duration`. "
   ]
  },
  {
   "cell_type": "code",
   "execution_count": 6,
   "metadata": {},
   "outputs": [
    {
     "name": "stdout",
     "output_type": "stream",
     "text": [
      "0    60\n",
      "1    60\n",
      "2    60\n",
      "3    45\n",
      "4    45\n",
      "5    30\n",
      "6    30\n",
      "7    45\n",
      "Name: Duration, dtype: int64\n"
     ]
    }
   ],
   "source": [
    "select_duration = data_dictionary[\"Duration\"]\n",
    "print(select_duration)"
   ]
  },
  {
   "attachments": {},
   "cell_type": "markdown",
   "metadata": {},
   "source": [
    "Para selecionar mais de uma coluna utilizamos `dataframe[[\"column1\",\"column2\",\"column3\"]]`. O exemplo a seguir mostra a seleção das colunas `\"Duration\"` e `\"Calories\"` do dataframe `data_dictionary` armazenado na variável `selected_columns`."
   ]
  },
  {
   "cell_type": "code",
   "execution_count": 7,
   "metadata": {},
   "outputs": [
    {
     "name": "stdout",
     "output_type": "stream",
     "text": [
      "   Duration  Calories\n",
      "0        60     409.1\n",
      "1        60     479.0\n",
      "2        60     340.0\n",
      "3        45     282.4\n",
      "4        45     406.0\n",
      "5        30     300.0\n",
      "6        30     374.0\n",
      "7        45     253.3\n"
     ]
    }
   ],
   "source": [
    "selected_columns = data_dictionary[[\"Duration\",\"Calories\"]]\n",
    "print(selected_columns)"
   ]
  },
  {
   "attachments": {},
   "cell_type": "markdown",
   "metadata": {},
   "source": [
    "### Selecionando linhas\n",
    "Podemos selecionar registros de um DataFrame condicionado a valores de uma coluna. \n",
    "Seleção de registros para valor de uma coluna `dataframe_name[dataframe_name[\"column\"]==value]`. O exemplo a seguir mostra a seleção de linhas do dataframe `data_dictionary`  onde a coluna  `\"Duration\"` tem valores igual a 60."
   ]
  },
  {
   "cell_type": "code",
   "execution_count": 8,
   "metadata": {},
   "outputs": [
    {
     "name": "stdout",
     "output_type": "stream",
     "text": [
      "   Duration  Pulse  Maxpulse  Calories\n",
      "0        60    110       130     409.1\n",
      "1        60    117       145     479.0\n",
      "2        60    103       135     340.0\n"
     ]
    }
   ],
   "source": [
    "selected_rows_1 = data_dictionary[data_dictionary[\"Duration\"] == 60]\n",
    "print(selected_rows_1)"
   ]
  },
  {
   "attachments": {},
   "cell_type": "markdown",
   "metadata": {},
   "source": [
    "<b>Observação:</b> Se utilizarmos `data_dictionary[\"Duration\"] == 60` teremos como retorno um objeto `DataFrame` com valores booleanos. "
   ]
  },
  {
   "attachments": {},
   "cell_type": "markdown",
   "metadata": {},
   "source": [
    "Para selecionar linhas onde os valores de uma coluna estão em uma lista de valores utilizamos método `isin(values)` onde os parametros `values` são do tipo valuesiterable, Series, DataFrame ou Dictionary."
   ]
  },
  {
   "cell_type": "code",
   "execution_count": 9,
   "metadata": {},
   "outputs": [
    {
     "name": "stdout",
     "output_type": "stream",
     "text": [
      "   Duration  Pulse  Maxpulse  Calories\n",
      "0        60    110       130     409.1\n",
      "1        60    117       145     479.0\n",
      "2        60    103       135     340.0\n",
      "5        30    102       127     300.0\n",
      "6        30    110       136     374.0\n"
     ]
    }
   ],
   "source": [
    "selected_rows_2 = data_dictionary[data_dictionary[\"Duration\"].isin([30,60])]\n",
    "print(selected_rows_2)"
   ]
  },
  {
   "attachments": {},
   "cell_type": "markdown",
   "metadata": {},
   "source": [
    "Podemos selecionar registros condicionados a valores de múltiplas colunas. A sintaxe utilizada é <br> `dataframe[(dataframe[\"column1]== valuee) & (dataframe[\"column2]==value2)]`"
   ]
  },
  {
   "cell_type": "code",
   "execution_count": 10,
   "metadata": {},
   "outputs": [
    {
     "name": "stdout",
     "output_type": "stream",
     "text": [
      "   Duration  Pulse  Maxpulse  Calories\n",
      "0        60    110       130     409.1\n",
      "1        60    117       145     479.0\n"
     ]
    }
   ],
   "source": [
    "selected_rows_3 = data_dictionary[(data_dictionary[\"Duration\"]==60)& (data_dictionary[\"Calories\"]>400)]\n",
    "print(selected_rows_3)"
   ]
  }
 ],
 "metadata": {
  "kernelspec": {
   "display_name": "Python 3",
   "language": "python",
   "name": "python3"
  },
  "language_info": {
   "codemirror_mode": {
    "name": "ipython",
    "version": 3
   },
   "file_extension": ".py",
   "mimetype": "text/x-python",
   "name": "python",
   "nbconvert_exporter": "python",
   "pygments_lexer": "ipython3",
   "version": "3.11.2"
  },
  "orig_nbformat": 4
 },
 "nbformat": 4,
 "nbformat_minor": 2
}
