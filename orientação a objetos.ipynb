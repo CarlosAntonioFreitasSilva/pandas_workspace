{
 "cells": [
  {
   "attachments": {},
   "cell_type": "markdown",
   "metadata": {},
   "source": [
    "## Relacionamentos\n",
    "\n",
    "<img src="https://www.ateomomento.com.br/wp-content/uploads/2016/07/post-uml-relacionamento-classes-agregacao-correto-ok.png"/>"
   ]
  },
  {
   "attachments": {},
   "cell_type": "markdown",
   "metadata": {},
   "source": [
    "## Composição\n",
    "\n",
    "Para emitir um cupom fiscal deve existir uma venda. A classe `Venda`  compõe a classe `CupomFiscal`, ou seja, a venda é parte de um cupom fiscal.\n",
    "\n",
    "*O todo tem parte como atributo obrigatório\n"
   ]
  },
  {
   "cell_type": "code",
   "execution_count": null,
   "metadata": {},
   "outputs": [],
   "source": [
    "class Pessoa:\n",
    "    def __init__(self,nome,cpf,data_nasc):\n",
    "        self.nome = nome\n",
    "        self.cpf = cpf\n",
    "        self.data_nasc = data_nasc\n",
    "        \n",
    "class Venda:\n",
    "    def __init__(self,cod,data,total):\n",
    "        self.cod = cod\n",
    "        self.data = data\n",
    "        self.total = total\n",
    "\n",
    "class CupomFiscal:\n",
    "    def __init__(self,venda,vendedor,cliente,codigo):\n",
    "        print(  \"Cupom fiscal: \" + str(codigo) + \"\\n\\n\" + str(venda.data) +\n",
    "                \"\\nCliente: \" + cliente.nome + \" CPF: \" + str(cliente.cpf) +\n",
    "                \"\\nVendedor: \" + vendedor.nome +\n",
    "                \"\\nTotal: R$ \" + str(venda.total)  +\n",
    "                \"\\nCódigo de venda: \" + str(venda.cod)\n",
    "              )\n",
    "vendedor = Pessoa(\"José Carlos\", 11122233355,\"15/05/1984\")\n",
    "comprador = Pessoa(\"Carlos Antônio\", 77722233399,\"16/07/1988\")\n",
    "venda1 = Venda(3764,\"03/06/2023\",73.26)\n",
    "cupom = CupomFiscal(venda1,vendedor,comprador,\"acf3$df6%4\")"
   ]
  },
  {
   "attachments": {},
   "cell_type": "markdown",
   "metadata": {},
   "source": [
    "## Agregação\n",
    "\n",
    "Os acessórios de um automóvel são partes agregadoras. Um automóvel não precisa desses acessórias para existir. As classes `Som` e `Gps` agregam classe `Carro`. Som e GPS são acessórios (partes) que agregam a um carro(todo), porém se um carro for destruído não precisamos destruir seus acessórios. Ambos podem existir de forma independente.\n",
    "\n",
    "*O todo tem a parte como atributo opcional"
   ]
  },
  {
   "cell_type": "code",
   "execution_count": null,
   "metadata": {},
   "outputs": [],
   "source": [
    "class Som:\n",
    "    def __init__(self,modelo,potencia):\n",
    "        self.modelo = modelo\n",
    "        self.potencia = potencia\n",
    "\n",
    "class Gps:\n",
    "    def __init__(self,modelo):\n",
    "        self.modelo = modelo\n",
    "\n",
    "class Carro:\n",
    "    def __init__(self,modelo,cor,ano,chassi,*acessorios):\n",
    "        if acessorios == None:\n",
    "            pass\n",
    "        else:\n",
    "            self.acessorios = acessorios\n",
    "\n",
    "        self.modelo = modelo\n",
    "        self.cor = cor\n",
    "        self.ano = ano\n",
    "        self.chassi = chassi\n",
    "        \n",
    "\n",
    "som = Som(\"Pionner\",\"1200W\")\n",
    "gps = Gps(\"Samsung\")\n",
    "carro_simples = Carro(\"Onix\",\"Branco\",\"2023\",123967)\n",
    "carro_top  = Carro(\"Onix\",\"Branco\",\"2023\",123967,som,gps)"
   ]
  },
  {
   "attachments": {},
   "cell_type": "markdown",
   "metadata": {},
   "source": [
    "Nos relacionamentos de composição e agregação o que muda em termos de implementação é o método construtor da classe. No relacionamento de composição o construtor da classe que representa o todo tem apenas um método construtor que obriga a existencia de uma classe que representa sua parte. Para o relacionamento de agregação utilizamos polimorfismo no método construdor. No caso da lingugem Python esse polimorfismo foi feito com estrutura de seleção `if`e `else`."
   ]
  }
 ],
 "metadata": {
  "kernelspec": {
   "display_name": "Python 3",
   "language": "python",
   "name": "python3"
  },
  "language_info": {
   "codemirror_mode": {
    "name": "ipython",
    "version": 3
   },
   "file_extension": ".py",
   "mimetype": "text/x-python",
   "name": "python",
   "nbconvert_exporter": "python",
   "pygments_lexer": "ipython3",
   "version": "3.11.2"
  },
  "orig_nbformat": 4
 },
 "nbformat": 4,
 "nbformat_minor": 2
}
