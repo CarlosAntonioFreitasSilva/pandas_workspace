{
 "cells": [
  {
   "attachments": {},
   "cell_type": "markdown",
   "metadata": {},
   "source": [
    "# Pandas\n",
    "\n",
    "A biblioteca Pandas nos permite realizar a manipulação de dados de uma tabela. Essas tabelas são chamadas de `DataFrame` que são obtidas a partir de arquivos `csv` e objetos `dict`. \n",
    "\n",
    "**Exemplo:** Considere os registros de um monitoramento de uma atividade física do qual são observados o tempo de duração, pulsação, pulsação máxima e calorias. \n",
    "\n",
    "Duração | Pulsação| Pulsação Máx.| Calorias\n",
    "---|---|---|---\n",
    "60 |110|130|409.1\n",
    "60 |117|145|479.0\n",
    "60 |103|135|340.0\n",
    "45 |109|175|282.4\n",
    "45 |117|148|406.0\n",
    "30 |102|127|300.0\n",
    "30 |110|136|374.0\n",
    "45 |104|134|253.3\n",
    "\n",
    "No código a seguir construiremos um `DataFrame`  chamado `monitoring` para visualizar a tabela dos dados registrados.\n",
    "\n"
   ]
  },
  {
   "cell_type": "code",
   "execution_count": 7,
   "metadata": {},
   "outputs": [
    {
     "name": "stdout",
     "output_type": "stream",
     "text": [
      "   Duration  Pulse  Maxpulse  Calories\n",
      "0        60    110       130     409.1\n",
      "1        60    117       145     479.0\n",
      "2        60    103       135     340.0\n",
      "3        45    109       175     282.4\n",
      "4        45    117       148     406.0\n",
      "5        30    102       127     300.0\n",
      "6        30    110       136     374.0\n",
      "7        45    104       134     253.3\n"
     ]
    }
   ],
   "source": [
    "import pandas as pd\n",
    "\n",
    "monitoring_dict = {\n",
    "  \"Duration\": [60,60,60,45,45,30,30,45],\n",
    "  \"Pulse\": [110,117,103,109,117,102,110,104],\n",
    "  \"Maxpulse\": [130,145,135,175,148,127,136,134],\n",
    "  \"Calories\": [409.1,479.0,340.0,282.4,406.0,300.0,374.0,253.3]\n",
    "}\n",
    "\n",
    "monitoring = pd.DataFrame(monitoring_dict)\n",
    "print(monitoring)"
   ]
  },
  {
   "attachments": {},
   "cell_type": "markdown",
   "metadata": {},
   "source": [
    "Na linha 1 importamos a biblioteca ``pandas`` utilizando um álias `pd`. Nas linhas de 3 a 8 temos um  objeto `dict` armazenado na variável `monitoring_dict` com os dados registrados. Na linha 10 criamos o objeto `DataFrame` com uma estrutura de tabelas e armazenamos na variável `monitoring`.\n",
    "    \n",
    "Existem alguns métodos disponíveis para obter informações sobre o objeto: \n",
    "\n",
    "- `info()` mostra a estrutura da tabela\n",
    "- `head()` retorna os cinco primeiros registros\n",
    "- `shape` retorna o número de linhas e colunas do `DataFrame`\n",
    "- `describe()` retorna estatísticas das colunas ue tem valores numéricos\n",
    " "
   ]
  },
  {
   "cell_type": "code",
   "execution_count": 8,
   "metadata": {},
   "outputs": [
    {
     "name": "stdout",
     "output_type": "stream",
     "text": [
      "<class 'pandas.core.frame.DataFrame'>\n",
      "RangeIndex: 8 entries, 0 to 7\n",
      "Data columns (total 4 columns):\n",
      " #   Column    Non-Null Count  Dtype  \n",
      "---  ------    --------------  -----  \n",
      " 0   Duration  8 non-null      int64  \n",
      " 1   Pulse     8 non-null      int64  \n",
      " 2   Maxpulse  8 non-null      int64  \n",
      " 3   Calories  8 non-null      float64\n",
      "dtypes: float64(1), int64(3)\n",
      "memory usage: 388.0 bytes\n",
      "None\n"
     ]
    }
   ],
   "source": [
    "print(monitoring.info())"
   ]
  },
  {
   "cell_type": "code",
   "execution_count": 9,
   "metadata": {},
   "outputs": [
    {
     "name": "stdout",
     "output_type": "stream",
     "text": [
      "   Duration  Pulse  Maxpulse  Calories\n",
      "0        60    110       130     409.1\n",
      "1        60    117       145     479.0\n",
      "2        60    103       135     340.0\n",
      "3        45    109       175     282.4\n",
      "4        45    117       148     406.0\n"
     ]
    }
   ],
   "source": [
    "print(monitoring.head())"
   ]
  },
  {
   "attachments": {},
   "cell_type": "markdown",
   "metadata": {},
   "source": [
    "## Selecionando colunas\n",
    "\n",
    "Para selecionar colunas de um `DataFrame` utilizamos o nome do objeto colocando entre colchetes as colunas desejadas, ou seja, \n",
    "\n",
    "`dataframe[\"column\"]`. \n",
    "\n",
    "Temos no código a seguir a seleção da coluna `\"Duration\"` do dataframe `monitoring` armazenado na variável `select_duration`. "
   ]
  },
  {
   "cell_type": "code",
   "execution_count": 10,
   "metadata": {},
   "outputs": [
    {
     "name": "stdout",
     "output_type": "stream",
     "text": [
      "0    60\n",
      "1    60\n",
      "2    60\n",
      "3    45\n",
      "4    45\n",
      "5    30\n",
      "6    30\n",
      "7    45\n",
      "Name: Duration, dtype: int64\n"
     ]
    }
   ],
   "source": [
    "select_duration = monitoring[\"Duration\"]\n",
    "print(select_duration)"
   ]
  },
  {
   "attachments": {},
   "cell_type": "markdown",
   "metadata": {},
   "source": [
    "Podemos também utilizar a sintaxe com ponto `dataframe.colmun` para selação de colunas. Para selecionar mais de uma coluna utilizamos a sintaxe com colchetes \n",
    "<br><br> `dataframe[[\"column1\",\"column2\",\"column3\"]]`. \n",
    "\n",
    "Observe que os nomes das colunas desejadas são passada como um objeto do tipo `list`. O código a seguir mostra a seleção das colunas `\"Duration\"` e `\"Calories\"` do dataframe `monitoring` armazenado na variável `monitoring_duration_cal`."
   ]
  },
  {
   "cell_type": "code",
   "execution_count": 18,
   "metadata": {},
   "outputs": [
    {
     "name": "stdout",
     "output_type": "stream",
     "text": [
      "   Duration  Calories\n",
      "0        60     409.1\n",
      "1        60     479.0\n",
      "2        60     340.0\n",
      "3        45     282.4\n",
      "4        45     406.0\n",
      "5        30     300.0\n",
      "6        30     374.0\n",
      "7        45     253.3\n"
     ]
    }
   ],
   "source": [
    "monitoring_duration_cal = monitoring[[\"Duration\",\"Calories\"]]\n",
    "print(monitoring_duration_cal)"
   ]
  },
  {
   "attachments": {},
   "cell_type": "markdown",
   "metadata": {},
   "source": [
    "## Selecionando linhas\n",
    "Podemos filtrar registros de um `DataFrame` condicionado a valores desejados de uma coluna. \n",
    "A sintaxe para seleção de registros para valor de uma coluna é\n",
    "`dataframe_name[dataframe_name[\"column\"] == value]`. \n",
    "\n",
    "No código a seguir armazenamos na variável `selected_duration_60` a seleção dos registros do dataframe `monitoring` onde o tempo de duração do treinamento é igual a 60."
   ]
  },
  {
   "cell_type": "code",
   "execution_count": 17,
   "metadata": {},
   "outputs": [
    {
     "name": "stdout",
     "output_type": "stream",
     "text": [
      "   Duration  Pulse  Maxpulse  Calories\n",
      "0        60    110       130     409.1\n",
      "1        60    117       145     479.0\n",
      "2        60    103       135     340.0\n"
     ]
    }
   ],
   "source": [
    "selected_duration_60 = monitoring[monitoring[\"Duration\"] == 60]\n",
    "print(selected_duration_60)"
   ]
  },
  {
   "attachments": {},
   "cell_type": "markdown",
   "metadata": {},
   "source": [
    "**Observação:** Se utilizarmos `monitoring[\"Duration\"] == 60` teremos como retorno um objeto `DataFrame` com valores booleanos. "
   ]
  },
  {
   "attachments": {},
   "cell_type": "markdown",
   "metadata": {},
   "source": [
    "Para selecionar linhas onde os valores de uma coluna estão em uma lista de valores utilizamos método `isin(values)` onde os parâmetros `values` são do tipo valuesiterable, Series, DataFrame ou Dictionary."
   ]
  },
  {
   "cell_type": "code",
   "execution_count": null,
   "metadata": {},
   "outputs": [],
   "source": [
    "selected_rows_2 = monitoring[monitoring[\"Duration\"].isin([30,60])]\n",
    "print(selected_rows_2)"
   ]
  },
  {
   "attachments": {},
   "cell_type": "markdown",
   "metadata": {},
   "source": [
    "Podemos selecionar registros condicionados a valores de múltiplas colunas. A sintaxe utilizada é\n",
    "\n",
    "`dataframe_name[(dataframe_name[\"column1]== valuee) & (dataframe_name[\"column2]==value2)]`"
   ]
  },
  {
   "cell_type": "code",
   "execution_count": 12,
   "metadata": {},
   "outputs": [
    {
     "name": "stdout",
     "output_type": "stream",
     "text": [
      "   Duration  Pulse  Maxpulse  Calories\n",
      "0        60    110       130     409.1\n",
      "1        60    117       145     479.0\n"
     ]
    }
   ],
   "source": [
    "selected_rows_3 = monitoring[(monitoring[\"Duration\"]==60)& (monitoring[\"Calories\"]>400)]\n",
    "print(selected_rows_3)"
   ]
  },
  {
   "attachments": {},
   "cell_type": "markdown",
   "metadata": {},
   "source": [
    "## Partes de um DataFrame\n",
    "\n",
    "O objeto `DataFrame` tem os atributos a seguir:\n",
    "- `.values`: um array NumPy com registros\n",
    "- `.columns` : um objeto `Index` com os nomes das colunas\n",
    "- `.index`: um objeto `RangeIndex` "
   ]
  },
  {
   "cell_type": "code",
   "execution_count": null,
   "metadata": {},
   "outputs": [],
   "source": [
    "print(monitoring.values)\n",
    "print(monitoring.columns)\n",
    "print(monitoring.index)"
   ]
  },
  {
   "attachments": {},
   "cell_type": "markdown",
   "metadata": {},
   "source": [
    "## Ordenando registros\n",
    " O método `sort_values(column)` retorna os registros de um `DataFrame` em ordem crescente de uma colunas desejada. Para retorna em ordem decresetente utilizamo o argumento `ascending = False`."
   ]
  },
  {
   "cell_type": "code",
   "execution_count": 20,
   "metadata": {},
   "outputs": [
    {
     "name": "stdout",
     "output_type": "stream",
     "text": [
      "   Duration  Pulse  Maxpulse  Calories\n",
      "5        30    102       127     300.0\n",
      "6        30    110       136     374.0\n",
      "3        45    109       175     282.4\n",
      "4        45    117       148     406.0\n",
      "7        45    104       134     253.3\n",
      "0        60    110       130     409.1\n",
      "1        60    117       145     479.0\n",
      "2        60    103       135     340.0\n"
     ]
    }
   ],
   "source": [
    "duration_asc= monitoring.sort_values(\"Duration\")\n",
    "duration_desc = monitoring.sort_values(\"Duration\", ascending = False)\n",
    "duration_pulse = monitoring.sort_values([\"Duration\",\"Pulse\"], ascending = [True,False])\n",
    "\n",
    "print(duration_asc)"
   ]
  },
  {
   "cell_type": "code",
   "execution_count": null,
   "metadata": {},
   "outputs": [],
   "source": [
    "print()"
   ]
  },
  {
   "cell_type": "code",
   "execution_count": null,
   "metadata": {},
   "outputs": [],
   "source": [
    "print()"
   ]
  },
  {
   "attachments": {},
   "cell_type": "markdown",
   "metadata": {},
   "source": [
    "## Estatística\n",
    "### Média moda e mediana\n",
    "\n",
    "Em um objeto `DataFrame` podemos obter algumas medidas de tendência de uma coluna. Os métodos disponíveis para essa finalidade são\n",
    "- `men()` : retorna a média aritmética dos valores de uma coluna\n",
    "- `mode()` : retorna a moda valores de uma coluna\n",
    "- `median()`: retorna a mediana dos valores de uma coluna\n",
    "\n",
    "**Exemplo:** Considere um registro das notas das três avaliações aplicadas em uma turma conforme  à seguir:\n",
    "\n",
    "Prova 1| Prova 2| Prova3\n",
    "---|---|--\n",
    "8.0|7.6|7.6\n",
    "8.2|9.2|9.2\n",
    "4.5|5.8|5.8\n",
    "7.0|7.5|7.5\n",
    "8.5|8.5|8.5\n",
    "9.2|7.2|7.2\n",
    "7.5|8.5|8.5\n",
    "7.7|6.0|6.0\n",
    "6.2|8.0|8.0\n",
    "\n",
    "Vamos criar um objeto `DataFrame` e armazenar na variável `notas`. Vamos obter o desempenho da turma em cada prova utilizando o método `mean()` e armazenar na variável `desempenho`"
   ]
  },
  {
   "cell_type": "code",
   "execution_count": 33,
   "metadata": {},
   "outputs": [
    {
     "name": "stdout",
     "output_type": "stream",
     "text": [
      "   Prova 1  Prova 2  Prova 3\n",
      "0      8.0      7.6      7.6\n",
      "1      8.2      9.2      9.2\n",
      "2      4.5      5.8      5.8\n",
      "3      7.0      7.5      7.5\n",
      "4      8.5      8.5      8.5\n",
      "5      9.2      7.2      7.2\n",
      "6      7.5      8.5      8.5\n",
      "7      7.7      6.0      6.0\n",
      "8      6.2      8.0      8.0\n",
      "[7.422222222222222, 7.588888888888889, 7.588888888888889]\n"
     ]
    }
   ],
   "source": [
    "import pandas as pd\n",
    "\n",
    "notas_dict = {\n",
    "    \"Prova 1\": [8.0, 8.2, 4.5, 7.0, 8.5, 9.2, 7.5, 7.7, 6.2],\n",
    "    \"Prova 2\": [7.6, 9.2, 5.8, 7.5, 8.5, 7.2, 8.5, 6.0, 8.0],\n",
    "    \"Prova 3\": [7.6, 9.2, 5.8, 7.5, 8.5, 7.2, 8.5, 6.0, 8.0]\n",
    "}\n",
    "\n",
    "notas = pd.DataFrame(notas_dict)\n",
    "\n",
    "media_prova1 = notas[\"Prova 1\"].mean()\n",
    "media_prova2 = notas[\"Prova 2\"].mean()\n",
    "media_prova3 = notas[\"Prova 3\"].mean()\n",
    "desempenho =[media_prova1,media_prova2,media_prova3]\n",
    "print(notas)\n",
    "print(desempenho)"
   ]
  },
  {
   "attachments": {},
   "cell_type": "markdown",
   "metadata": {},
   "source": [
    "Vamos cirar uma nova coluna `Média` para registrar a nota final de cada aluno calculada pela a média aritmética das notas."
   ]
  },
  {
   "cell_type": "code",
   "execution_count": 36,
   "metadata": {},
   "outputs": [
    {
     "name": "stdout",
     "output_type": "stream",
     "text": [
      "   Prova 1  Prova 2  Prova 3     Média\n",
      "0      8.0      7.6      7.6  7.733333\n",
      "1      8.2      9.2      9.2  8.866667\n",
      "2      4.5      5.8      5.8  5.366667\n",
      "3      7.0      7.5      7.5  7.333333\n",
      "4      8.5      8.5      8.5  8.500000\n",
      "5      9.2      7.2      7.2  7.866667\n",
      "6      7.5      8.5      8.5  8.166667\n",
      "7      7.7      6.0      6.0  6.566667\n",
      "8      6.2      8.0      8.0  7.400000\n"
     ]
    }
   ],
   "source": [
    "notas[\"Média\"] = (notas[\"Prova 1\"]+notas[\"Prova 2\"]+notas[\"Prova 3\"])/3\n",
    "print(notas)"
   ]
  },
  {
   "attachments": {},
   "cell_type": "markdown",
   "metadata": {},
   "source": [
    "### Máximo e mínimo\n",
    "\n",
    "Podemos também obter o valor mínimo e máximo de uma coluna utilizando os métodos `min()` e `max()`. Vamos consultar a menor e a maior nota final e armazenar nas variáveis `media_min` e `media_max`."
   ]
  },
  {
   "cell_type": "code",
   "execution_count": 37,
   "metadata": {},
   "outputs": [
    {
     "name": "stdout",
     "output_type": "stream",
     "text": [
      "[5.366666666666667, 8.866666666666665]\n"
     ]
    }
   ],
   "source": [
    "media_min = notas[\"Média\"].min()\n",
    "media_max = notas[\"Média\"].max()\n",
    "print([media_min,media_max])"
   ]
  },
  {
   "attachments": {},
   "cell_type": "markdown",
   "metadata": {},
   "source": [
    "### Soma e soma acumulada\n",
    "\n",
    "Em um objeto `DataFrame` é possível obter a soma de todos registros de uma coluna específica. Para isso utilizamos os métodos `sum()` e para obter a soma acumulada utilizamos o método `cumsum()`.\n",
    "\n",
    "**Exemplo:** Antônio registrou seus gastos feitos durante um dia de viagem com a família.\n",
    "\n",
    "- Café da manhã R$ 23,50\n",
    "- Visita museu R$ 42,00\n",
    "- Almoço R$ 72,36\n",
    "- Passeio de lancha R$ 50,00\n",
    "- Lanche R$ 37,20\n",
    "- Visita parque R$ 37,00\n",
    "- Jantar R$ 172,46\n",
    "\n",
    "Vamos criar um objeto `DataFrame` e armazenar na variável `gastos` para obtermos o gasto total utilizando método `sum()` "
   ]
  },
  {
   "cell_type": "code",
   "execution_count": null,
   "metadata": {},
   "outputs": [],
   "source": [
    "import pandas as pd\n",
    "\n",
    "gastos_dict={\n",
    "    \"Descrição\" : [\"Cafe da manhã\",\"Visita museu\",\"Almoço\",\"Passeio de lancha\",\"Lanche\",\"Visita ao parque\",\"Jantar\"],\n",
    "    \"Valor\": [23.50,42.00,72.36,50.00,37.20,37.00,172.46]\n",
    "}\n",
    "\n",
    "gastos = pd.DataFrame(gastos_dict)\n",
    "total = gastos[\"Valor\"].sum()\n",
    "\n",
    "print(gastos)\n",
    "print(total)"
   ]
  },
  {
   "attachments": {},
   "cell_type": "markdown",
   "metadata": {},
   "source": [
    "### Frequência relativa e frequência relativa acumulada\n",
    "\n",
    "\n",
    "**Exemplo:** Em uma sala de aula, com 50 estudantes, o professor de educação física os consultou sobre qual seria o esporte favorito de cada um deles. As respostas obtidas foram anotadas de acordo com a sua frequência absoluta:\n",
    "\n",
    "- futebol: 50 estudantes\n",
    "- voleibol: 12 estudantes\n",
    "- handebol: 6 estudantes\n",
    "- queimada: 8 estudantes\n",
    "- outros: 4 estudantes\n",
    "\n",
    "Vamos criar um `DataFrame` chamado `esportes` com as colunas `Modalidade` e `Freq_abs` e, a partir dessas colunas, adicionamos as novas colunas `Freq_rel` e `Freq_rel_ac`"
   ]
  },
  {
   "cell_type": "code",
   "execution_count": 38,
   "metadata": {},
   "outputs": [
    {
     "name": "stdout",
     "output_type": "stream",
     "text": [
      "  Modalidade  Freq_abs  Freq_rel  Req_rel_ac\n",
      "0    futebol        50     0.625       0.625\n",
      "1   voleibol        12     0.150       0.775\n",
      "2   handebol         6     0.075       0.850\n",
      "3   queimada         8     0.100       0.950\n",
      "4     outros         4     0.050       1.000\n"
     ]
    }
   ],
   "source": [
    "import pandas as pd\n",
    "esportes_dict ={\n",
    "    \"Modalidade\":[\"futebol\",\"voleibol\",\"handebol\",\"queimada\",\"outros\"],\n",
    "    \"Freq_abs\":[50,12,6,8,4]\n",
    "}\n",
    "\n",
    "esportes = pd.DataFrame(esportes_dict)\n",
    "total = esportes[\"Freq_abs\"].sum()\n",
    "esportes[\"Freq_rel\"]=esportes[\"Freq_abs\"]/total\n",
    "esportes[\"Req_rel_ac\"]=esportes[\"Freq_rel\"].cumsum()\n",
    "\n",
    "print(esportes)"
   ]
  },
  {
   "attachments": {},
   "cell_type": "markdown",
   "metadata": {},
   "source": [
    "Na linha 8 armazenamos na variável `total` a soma dos registros da coluna `Freq_abs`. Na linha 9 criamos nova coluna `Freq_rel` que divide cada registro da coluna `Freq_abs` pela soma total. Na linha 10 a coluna `Freq_rel_ac` foi criada a partir da soma acumulada da frequência relativa."
   ]
  },
  {
   "attachments": {},
   "cell_type": "markdown",
   "metadata": {},
   "source": [
    "## Quartis\n",
    "Em um conjunto de dados obtemos os quartis utilizando o método `quantile(value)`.\n",
    "\n",
    "**Exemplo:** Considere os dados de uma pesquisa sobre a quantidade de investimentos de empresas com projetos de presenvação do meio ambiente disponível no arquivo `investimentos.csv`. "
   ]
  },
  {
   "cell_type": "code",
   "execution_count": 59,
   "metadata": {},
   "outputs": [
    {
     "name": "stdout",
     "output_type": "stream",
     "text": [
      "              empresa       valor\n",
      "0       São Francisco   256341.45\n",
      "1          Freitas SA   452968.32\n",
      "2                Tech  5437574.45\n",
      "3      Steal Máquinas    43784.87\n",
      "4                Soft    23657.56\n",
      "5         Brasil Tech    74126.23\n",
      "6  Banco Nacional SA    563276.95\n",
      "7       Fresh Bebidas    56167.73\n",
      "8              Ki-mel    96125.03\n",
      "9    Telecomunicações    54612.85\n",
      "55001.57\n"
     ]
    }
   ],
   "source": [
    "investimentos = pd.read_csv(\"H:/Meu Drive/python_basico/investimentos.csv\")\n",
    "print(investimentos)\n",
    "print(investimentos[\"valor\"].quantile(0.25))\n",
    "\n"
   ]
  },
  {
   "attachments": {},
   "cell_type": "markdown",
   "metadata": {},
   "source": [
    "## Método `agg()`\n",
    "\n",
    "Agregação de uma função a uma coluna"
   ]
  },
  {
   "cell_type": "code",
   "execution_count": 40,
   "metadata": {},
   "outputs": [
    {
     "name": "stdout",
     "output_type": "stream",
     "text": [
      "104.5\n",
      "6.0\n"
     ]
    }
   ],
   "source": [
    "def pct30(column):\n",
    "    return column.quantile(0.3)\n",
    "print(data_dictionary[\"Pulse\"].agg(pct30))\n",
    "\n",
    "print(esportes[\"Freq_abs\"].quantile(0.25))"
   ]
  },
  {
   "attachments": {},
   "cell_type": "markdown",
   "metadata": {},
   "source": [
    "### Excluindo dados duplicados\n",
    "\n",
    "`dataframe.drop_duplicates(\"column\")` ou `dataframe.drop_duplicates(subset=[\"column1\",\"column2\"])`\n",
    "\n",
    "\n",
    "### Contando registros\n",
    "\n",
    "Contagem do numero de registros iguais de uma coluna\n",
    "` dataframe[\"column\"].value_counts()` podemos utilizar como argumento `sort=True` para obter a contagem em ordem decrescente\n",
    "\n",
    "Explicar o comando ` dataframe[\"column\"].value_counts(normalize=True)` "
   ]
  }
 ],
 "metadata": {
  "kernelspec": {
   "display_name": "Python 3",
   "language": "python",
   "name": "python3"
  },
  "language_info": {
   "codemirror_mode": {
    "name": "ipython",
    "version": 3
   },
   "file_extension": ".py",
   "mimetype": "text/x-python",
   "name": "python",
   "nbconvert_exporter": "python",
   "pygments_lexer": "ipython3",
   "version": "3.11.3"
  },
  "orig_nbformat": 4
 },
 "nbformat": 4,
 "nbformat_minor": 2
}
