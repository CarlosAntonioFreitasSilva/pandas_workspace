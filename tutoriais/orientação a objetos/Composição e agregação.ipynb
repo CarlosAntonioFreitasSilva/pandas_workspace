{
 "cells": [
  {
   "cell_type": "markdown",
   "metadata": {},
   "source": [
    "# Classes\n",
    "Uma classe é uma representação abstrata de um objeto. Por exemplo, uma casa tem sua representação dada pelo projeto de planta baixa que contém todas as suas características e a partir desse projeto podemos construir várias casas. Uma casa só passa existir quando for construída. Na orientação a objetos podemos então definir classes para representar algum objeto e tal objeto só passa existir quando é construído o que chamamos de instância da classe. \n",
    "\n",
    "**Exemplo**\n",
    "Temos no exemplo a seguir uma classe chamada `Circulo` com seu atributos `raio`, `centro_x` e `centro_y`."
   ]
  },
  {
   "cell_type": "code",
   "execution_count": 40,
   "metadata": {},
   "outputs": [],
   "source": [
    "class Circulo:\n",
    "    def __init__(self):\n",
    "        self.raio = None\n",
    "        self.centro_x = None\n",
    "        self.centro_y = None"
   ]
  },
  {
   "cell_type": "markdown",
   "metadata": {},
   "source": [
    "## Instanciando um objeto\n",
    "\n",
    "Para instanciar um objeto de uma classe criamos uma variável com o tipo da classe e atribuímos à essa variável o novo objeto que desejamos criar. No código a seguir temos a variável `circulo1` que armazena um ponteiro para um objeto do tipo `Circulo`."
   ]
  },
  {
   "cell_type": "code",
   "execution_count": 41,
   "metadata": {},
   "outputs": [],
   "source": [
    "circulo_1 = Circulo()"
   ]
  },
  {
   "cell_type": "markdown",
   "metadata": {},
   "source": [
    "### Definindo atributos\n",
    "\n",
    "Para atribuir valores aos atributos do objeto criado utilizamos a sintaxe `nome_do_objeto.atributo = valor`"
   ]
  },
  {
   "cell_type": "code",
   "execution_count": 42,
   "metadata": {},
   "outputs": [],
   "source": [
    "circulo_1.raio = 2.3\n",
    "circulo_1.centro_x = 3.0\n",
    "circulo_1.centro_y = 1.0"
   ]
  },
  {
   "cell_type": "markdown",
   "metadata": {},
   "source": [
    "### Construtor\n",
    "\n",
    "O método construtor inicializa um objeto da classe e pode ser implementado para atribuir valores aos seus atributos.\n"
   ]
  },
  {
   "cell_type": "code",
   "execution_count": 43,
   "metadata": {},
   "outputs": [],
   "source": [
    "class Pessoa:\n",
    "    def __init__(self, nome,cpf):\n",
    "        self.nome = nome\n",
    "        self.cpf = cpf    "
   ]
  },
  {
   "cell_type": "code",
   "execution_count": 46,
   "metadata": {},
   "outputs": [
    {
     "name": "stdout",
     "output_type": "stream",
     "text": [
      "Carlos Antônio\n",
      "17800045711\n"
     ]
    }
   ],
   "source": [
    "carlos = Pessoa(\"Carlos Antônio\",17800045711)\n",
    "print(carlos.nome)\n",
    "print(carlos.cpf)"
   ]
  },
  {
   "cell_type": "markdown",
   "metadata": {},
   "source": [
    "## Métodos\n",
    "Um método de uma classe são ações que um objeto dessa classe pode realizar ou podemos dizer que são as funcionalidades do objeto."
   ]
  },
  {
   "cell_type": "code",
   "execution_count": 34,
   "metadata": {},
   "outputs": [],
   "source": [
    "class Retangulo:\n",
    "    def __init__(self,comprimento,largura):\n",
    "        self.comprimento = comprimento\n",
    "        self.largura = largura\n",
    "    \n",
    "    def mostrarArea(self):\n",
    "        return self.comprimento*self.largura"
   ]
  },
  {
   "cell_type": "markdown",
   "metadata": {},
   "source": [
    "### Executando método\n",
    "\n",
    "Para que um objeto possa executar um método devemos fazer a chamda desse método utilizando a sintaxe `nome_do_objeto.metodo()`"
   ]
  },
  {
   "cell_type": "code",
   "execution_count": 50,
   "metadata": {},
   "outputs": [
    {
     "name": "stdout",
     "output_type": "stream",
     "text": [
      "A área do retângulo de comprimento 3 e largura 4 é igual a 12\n"
     ]
    }
   ],
   "source": [
    "retangulo = Retangulo(3,4)\n",
    "\n",
    "print(\"A área do retângulo de comprimento {} e largura {} é igual a {}\".format(retangulo.comprimento,retangulo.largura, retangulo.mostrarArea()))"
   ]
  },
  {
   "cell_type": "markdown",
   "metadata": {},
   "source": [
    "## Encapsulamento\n",
    "\n",
    "Apenas métodos da classe podem ter acesso aos atributos privados. "
   ]
  },
  {
   "cell_type": "code",
   "execution_count": 54,
   "metadata": {},
   "outputs": [
    {
     "name": "stdout",
     "output_type": "stream",
     "text": [
      "Corola\n",
      "Fusca\n"
     ]
    },
    {
     "ename": "AttributeError",
     "evalue": "'Carro' object has no attribute 'placa'",
     "output_type": "error",
     "traceback": [
      "\u001b[1;31m---------------------------------------------------------------------------\u001b[0m",
      "\u001b[1;31mAttributeError\u001b[0m                            Traceback (most recent call last)",
      "\u001b[1;32mc:\\Users\\cafs1\\OneDrive\\Área de Trabalho\\python\\tutoriais\\orientação a objetos\\Composição e agregação.ipynb Célula 15\u001b[0m line \u001b[0;36m1\n\u001b[0;32m      <a href='vscode-notebook-cell:/c%3A/Users/cafs1/OneDrive/%C3%81rea%20de%20Trabalho/python/tutoriais/orienta%C3%A7%C3%A3o%20a%20objetos/Composi%C3%A7%C3%A3o%20e%20agrega%C3%A7%C3%A3o.ipynb#X31sZmlsZQ%3D%3D?line=8'>9</a>\u001b[0m carro1\u001b[39m.\u001b[39mmodelo \u001b[39m=\u001b[39m \u001b[39m\"\u001b[39m\u001b[39mFusca\u001b[39m\u001b[39m\"\u001b[39m\n\u001b[0;32m     <a href='vscode-notebook-cell:/c%3A/Users/cafs1/OneDrive/%C3%81rea%20de%20Trabalho/python/tutoriais/orienta%C3%A7%C3%A3o%20a%20objetos/Composi%C3%A7%C3%A3o%20e%20agrega%C3%A7%C3%A3o.ipynb#X31sZmlsZQ%3D%3D?line=9'>10</a>\u001b[0m \u001b[39mprint\u001b[39m(carro1\u001b[39m.\u001b[39mmodelo)\n\u001b[1;32m---> <a href='vscode-notebook-cell:/c%3A/Users/cafs1/OneDrive/%C3%81rea%20de%20Trabalho/python/tutoriais/orienta%C3%A7%C3%A3o%20a%20objetos/Composi%C3%A7%C3%A3o%20e%20agrega%C3%A7%C3%A3o.ipynb#X31sZmlsZQ%3D%3D?line=10'>11</a>\u001b[0m \u001b[39mprint\u001b[39m(carro1\u001b[39m.\u001b[39;49mplaca)\n",
      "\u001b[1;31mAttributeError\u001b[0m: 'Carro' object has no attribute 'placa'"
     ]
    }
   ],
   "source": [
    "class Carro:\n",
    "    def __init__(self,modelo,placa):\n",
    "        self.modelo = modelo\n",
    "        self.__placa = placa\n",
    "\n",
    "\n",
    "carro1 = Carro(\"Corola\",\"PNK9OG5\")\n",
    "print(carro1.modelo)\n",
    "print(carro1.placa)\n"
   ]
  },
  {
   "cell_type": "markdown",
   "metadata": {},
   "source": [
    "Atributos e métodos privados podem ser acessiveis apenas por meio de métodos da classe. Assim, utilizamos os métodos getters e setters."
   ]
  },
  {
   "cell_type": "code",
   "execution_count": 65,
   "metadata": {},
   "outputs": [
    {
     "name": "stdout",
     "output_type": "stream",
     "text": [
      "José\n",
      "12354311100\n",
      "José Augusto\n"
     ]
    }
   ],
   "source": [
    "class Cliente:\n",
    "    def __init__(self,nome,cpf):\n",
    "        self.__nome = nome\n",
    "        self.__cpf = cpf\n",
    "\n",
    "    def setNome(self,nome):\n",
    "        self.__nome = nome\n",
    "        \n",
    "    def getNome(self):\n",
    "        return self.__nome\n",
    "\n",
    "    def setCpf(self,cpf):\n",
    "        self.__cpf = cpf\n",
    "    \n",
    "    def getCpf(self):\n",
    "        return self.__cpf\n",
    "    \n",
    "jose = Cliente(\"José\",12354311100)\n",
    "\n",
    "print(jose.getNome())\n",
    "print(jose.getCpf())\n",
    "jose.setNome(\"José Augusto\")\n",
    "print(jose.getNome())\n",
    "    "
   ]
  },
  {
   "cell_type": "markdown",
   "metadata": {},
   "source": [
    "## Princípio da responsabilidade única\n",
    "\n",
    "Pesquisar e estudar"
   ]
  },
  {
   "cell_type": "markdown",
   "metadata": {},
   "source": [
    "## Variáveis e métodos de classe\n",
    "\n",
    "Um elemento estático pode ser acessado sem instanciar um objeto."
   ]
  },
  {
   "cell_type": "code",
   "execution_count": 1,
   "metadata": {},
   "outputs": [
    {
     "name": "stdout",
     "output_type": "stream",
     "text": [
      "Static\n"
     ]
    }
   ],
   "source": [
    "class MinhaClasse:\n",
    "    static_variable = \"Static\"\n",
    "\n",
    "print(MinhaClasse.static_variable)"
   ]
  },
  {
   "attachments": {},
   "cell_type": "markdown",
   "metadata": {},
   "source": [
    "## Relacionamentos\n",
    "\n",
    "\n",
    "Para decidir sobre o relacionamento de agregação ou composição entre classe podemos pensar numa relação entre todo e a sua parte, isto é, sobre a questão de um objeto de uma classe(todo) existir condicionada a existencia de um objeto de outra classe (parte). \n",
    "\n",
    "Uma casa so pode existir se algumas de suas partes existirem obrigatoriamente tais como parede e telhado. Já um objeto espelho não precisa fazer parte de uma casa, assim o espelho é um objeto que agrega a casa e as paredes e telhados compõem a casa.\n",
    "\n",
    "\n",
    "![](post-uml-relacionamento-classes-agregacao-correto-ok.png)\n",
    "## Composição\n",
    "\n",
    "Para emitir um cupom fiscal deve existir uma venda. A classe `Venda`  compõe a classe `CupomFiscal`, ou seja, a venda é parte de um cupom fiscal.\n",
    "\n",
    "*O todo tem parte como atributo obrigatório\n"
   ]
  },
  {
   "cell_type": "code",
   "execution_count": 2,
   "metadata": {},
   "outputs": [
    {
     "name": "stdout",
     "output_type": "stream",
     "text": [
      "Cupom fiscal: acf3$df6%4\n",
      "\n",
      "03/06/2023\n",
      "Cliente: Carlos Antônio CPF: 77722233399\n",
      "Vendedor: José Carlos\n",
      "Total: R$ 73.26\n",
      "Código de venda: 3764\n"
     ]
    }
   ],
   "source": [
    "class Pessoa:\n",
    "    def __init__(self,nome,cpf,data_nasc):\n",
    "        self.nome = nome\n",
    "        self.cpf = cpf\n",
    "        self.data_nasc = data_nasc\n",
    "        \n",
    "class Venda:\n",
    "    def __init__(self,cod,vendedor,cliente,data,total):\n",
    "        self.cod = cod\n",
    "        self.vendedor = vendedor\n",
    "        self.cliente = cliente\n",
    "        self.data = data\n",
    "        self.total = total\n",
    "\n",
    "class CupomFiscal:\n",
    "    def __init__(self,venda,codigo):\n",
    "        print(  \"Cupom fiscal: \" + str(codigo) + \"\\n\\n\" + str(venda.data) +\n",
    "                \"\\nCliente: \" + venda.cliente.nome + \" CPF: \" + str(venda.cliente.cpf) +\n",
    "                \"\\nVendedor: \" + venda.vendedor.nome +\n",
    "                \"\\nTotal: R$ \" + str(venda.total)  +\n",
    "                \"\\nCódigo de venda: \" + str(venda.cod)\n",
    "              )\n",
    "        \n",
    "vendedor = Pessoa(\"José Carlos\", 11122233355,\"15/05/1984\")\n",
    "comprador = Pessoa(\"Carlos Antônio\", 77722233399,\"16/07/1988\")\n",
    "venda1 = Venda(3764,vendedor,comprador,\"03/06/2023\",73.26)\n",
    "cupom = CupomFiscal(venda1,\"acf3$df6%4\")"
   ]
  },
  {
   "attachments": {},
   "cell_type": "markdown",
   "metadata": {},
   "source": [
    "## Agregação\n",
    "\n",
    "Os acessórios de um automóvel são partes agregadoras. Um automóvel não precisa desses acessórias para existir. As classes `Som` e `Gps` agregam classe `Carro`. Som e GPS são acessórios (partes) que agregam a um carro(todo), porém se um carro for destruído não precisamos destruir seus acessórios. Ambos podem existir de forma independente.\n",
    "\n",
    "*O todo tem a parte como atributo opcional"
   ]
  },
  {
   "cell_type": "code",
   "execution_count": null,
   "metadata": {},
   "outputs": [],
   "source": [
    "class Som:\n",
    "    def __init__(self,modelo,potencia):\n",
    "        self.modelo = modelo\n",
    "        self.potencia = potencia\n",
    "\n",
    "class Gps:\n",
    "    def __init__(self,modelo):\n",
    "        self.modelo = modelo\n",
    "\n",
    "class Carro:\n",
    "    def __init__(self,modelo,cor,ano,chassi,*acessorios):\n",
    "        if acessorios == None:\n",
    "            pass\n",
    "        else:\n",
    "            self.acessorios = acessorios\n",
    "\n",
    "        self.modelo = modelo\n",
    "        self.cor = cor\n",
    "        self.ano = ano\n",
    "        self.chassi = chassi\n",
    "        \n",
    "\n",
    "som = Som(\"Pionner\",\"1200W\")\n",
    "gps = Gps(\"Samsung\")\n",
    "carro_simples = Carro(\"Onix\",\"Branco\",\"2023\",123967)\n",
    "carro_top  = Carro(\"Onix\",\"Branco\",\"2023\",123967,som,gps)"
   ]
  },
  {
   "attachments": {},
   "cell_type": "markdown",
   "metadata": {},
   "source": [
    "Nos relacionamentos de composição e agregação o que muda em termos de implementação é o método construtor da classe. No relacionamento de composição o construtor da classe que representa o todo tem apenas um método construtor que obriga a existencia de uma classe que representa sua parte. Para o relacionamento de agregação utilizamos sobrecarga no método construdor. A sobre carga é um método ter várias assinaturas.\n",
    "\n",
    "No caso da linguagem Python essa sobrecarga foi feita com estrutura de seleção `if` e `else`."
   ]
  }
 ],
 "metadata": {
  "kernelspec": {
   "display_name": "Python 3",
   "language": "python",
   "name": "python3"
  },
  "language_info": {
   "codemirror_mode": {
    "name": "ipython",
    "version": 3
   },
   "file_extension": ".py",
   "mimetype": "text/x-python",
   "name": "python",
   "nbconvert_exporter": "python",
   "pygments_lexer": "ipython3",
   "version": "3.11.2"
  },
  "orig_nbformat": 4
 },
 "nbformat": 4,
 "nbformat_minor": 2
}
