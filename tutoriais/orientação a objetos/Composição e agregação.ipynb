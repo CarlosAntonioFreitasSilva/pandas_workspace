{
 "cells": [
  {
   "attachments": {},
   "cell_type": "markdown",
   "metadata": {},
   "source": [
    "## Relacionamentos\n",
    "\n",
    "\n",
    "Para decidir sobre o relacionamento de agregação ou composição entre classe podemos pensar numa relação entre todo e a sua parte, isto é, sobre a questão de um objeto de uma classe(todo) existir condicionada a existencia de um objeto de outra classe (parte). \n",
    "\n",
    "Uma casa so pode existir se algumas de suas partes existirem obrigatoriamente tais como parede e telhado. Já um objeto espelho não precisa fazer parte de uma casa, assim o espelho é um objeto que agrega a casa e as paredes e telhados compõem a casa.\n",
    "\n",
    "\n",
    "![](post-uml-relacionamento-classes-agregacao-correto-ok.png)\n",
    "## Composição\n",
    "\n",
    "Para emitir um cupom fiscal deve existir uma venda. A classe `Venda`  compõe a classe `CupomFiscal`, ou seja, a venda é parte de um cupom fiscal.\n",
    "\n",
    "*O todo tem parte como atributo obrigatório\n"
   ]
  },
  {
   "cell_type": "code",
   "execution_count": 2,
   "metadata": {},
   "outputs": [
    {
     "name": "stdout",
     "output_type": "stream",
     "text": [
      "Cupom fiscal: acf3$df6%4\n",
      "\n",
      "03/06/2023\n",
      "Cliente: Carlos Antônio CPF: 77722233399\n",
      "Vendedor: José Carlos\n",
      "Total: R$ 73.26\n",
      "Código de venda: 3764\n"
     ]
    }
   ],
   "source": [
    "class Pessoa:\n",
    "    def __init__(self,nome,cpf,data_nasc):\n",
    "        self.nome = nome\n",
    "        self.cpf = cpf\n",
    "        self.data_nasc = data_nasc\n",
    "        \n",
    "class Venda:\n",
    "    def __init__(self,cod,vendedor,cliente,data,total):\n",
    "        self.cod = cod\n",
    "        self.vendedor = vendedor\n",
    "        self.cliente = cliente\n",
    "        self.data = data\n",
    "        self.total = total\n",
    "\n",
    "class CupomFiscal:\n",
    "    def __init__(self,venda,codigo):\n",
    "        print(  \"Cupom fiscal: \" + str(codigo) + \"\\n\\n\" + str(venda.data) +\n",
    "                \"\\nCliente: \" + venda.cliente.nome + \" CPF: \" + str(venda.cliente.cpf) +\n",
    "                \"\\nVendedor: \" + venda.vendedor.nome +\n",
    "                \"\\nTotal: R$ \" + str(venda.total)  +\n",
    "                \"\\nCódigo de venda: \" + str(venda.cod)\n",
    "              )\n",
    "        \n",
    "vendedor = Pessoa(\"José Carlos\", 11122233355,\"15/05/1984\")\n",
    "comprador = Pessoa(\"Carlos Antônio\", 77722233399,\"16/07/1988\")\n",
    "venda1 = Venda(3764,vendedor,comprador,\"03/06/2023\",73.26)\n",
    "cupom = CupomFiscal(venda1,\"acf3$df6%4\")"
   ]
  },
  {
   "attachments": {},
   "cell_type": "markdown",
   "metadata": {},
   "source": [
    "## Agregação\n",
    "\n",
    "Os acessórios de um automóvel são partes agregadoras. Um automóvel não precisa desses acessórias para existir. As classes `Som` e `Gps` agregam classe `Carro`. Som e GPS são acessórios (partes) que agregam a um carro(todo), porém se um carro for destruído não precisamos destruir seus acessórios. Ambos podem existir de forma independente.\n",
    "\n",
    "*O todo tem a parte como atributo opcional"
   ]
  },
  {
   "cell_type": "code",
   "execution_count": null,
   "metadata": {},
   "outputs": [],
   "source": [
    "class Som:\n",
    "    def __init__(self,modelo,potencia):\n",
    "        self.modelo = modelo\n",
    "        self.potencia = potencia\n",
    "\n",
    "class Gps:\n",
    "    def __init__(self,modelo):\n",
    "        self.modelo = modelo\n",
    "\n",
    "class Carro:\n",
    "    def __init__(self,modelo,cor,ano,chassi,*acessorios):\n",
    "        if acessorios == None:\n",
    "            pass\n",
    "        else:\n",
    "            self.acessorios = acessorios\n",
    "\n",
    "        self.modelo = modelo\n",
    "        self.cor = cor\n",
    "        self.ano = ano\n",
    "        self.chassi = chassi\n",
    "        \n",
    "\n",
    "som = Som(\"Pionner\",\"1200W\")\n",
    "gps = Gps(\"Samsung\")\n",
    "carro_simples = Carro(\"Onix\",\"Branco\",\"2023\",123967)\n",
    "carro_top  = Carro(\"Onix\",\"Branco\",\"2023\",123967,som,gps)"
   ]
  },
  {
   "attachments": {},
   "cell_type": "markdown",
   "metadata": {},
   "source": [
    "Nos relacionamentos de composição e agregação o que muda em termos de implementação é o método construtor da classe. No relacionamento de composição o construtor da classe que representa o todo tem apenas um método construtor que obriga a existencia de uma classe que representa sua parte. Para o relacionamento de agregação utilizamos sobrecarga no método construdor. A sobre carga é um método ter várias assinaturas.\n",
    "\n",
    "No caso da linguagem Python essa sobrecarga foi feita com estrutura de seleção `if` e `else`."
   ]
  }
 ],
 "metadata": {
  "kernelspec": {
   "display_name": "Python 3",
   "language": "python",
   "name": "python3"
  },
  "language_info": {
   "codemirror_mode": {
    "name": "ipython",
    "version": 3
   },
   "file_extension": ".py",
   "mimetype": "text/x-python",
   "name": "python",
   "nbconvert_exporter": "python",
   "pygments_lexer": "ipython3",
   "version": "3.11.2"
  },
  "orig_nbformat": 4
 },
 "nbformat": 4,
 "nbformat_minor": 2
}
