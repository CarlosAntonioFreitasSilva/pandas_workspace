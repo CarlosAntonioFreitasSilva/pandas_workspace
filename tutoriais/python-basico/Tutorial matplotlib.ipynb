{
 "cells": [
  {
   "cell_type": "markdown",
   "metadata": {},
   "source": [
    "# Matplotlib\n",
    "\n",
    "## Plot"
   ]
  },
  {
   "cell_type": "code",
   "execution_count": null,
   "metadata": {},
   "outputs": [],
   "source": [
    "import pandas as pd\n",
    "from matplotlib import pyplot as plt\n",
    "\n",
    "\n",
    "\n",
    "year = [1950,1970,1990,2010]\n",
    "pop = [2.519, 3.692, 5.263, 6.972]\n",
    "plt.plot(year, pop)\n",
    "plt.show()\n",
    "\n",
    "\n",
    "\n",
    "# usando dataframe\n",
    "data_frame = pd.read_csv(\"C:/python_basico/data.csv\")\n",
    "plt.plot(data_frame.Duration,data_frame.Calories)\n",
    "plt.show()\n",
    "\n",
    "notas_dictionary={\"nome\":[\"Ana\",\"João\",\"Carlos\"], \"nota\":[9,8,8.5]}\n",
    "notas = pd.DataFrame(notas_dictionary)\n",
    "plt.plot(notas.nome,notas.nota)\n",
    "plt.show()\n"
   ]
  },
  {
   "cell_type": "markdown",
   "metadata": {},
   "source": [
    "### Labels"
   ]
  },
  {
   "cell_type": "code",
   "execution_count": null,
   "metadata": {},
   "outputs": [],
   "source": [
    "import pandas as pd\n",
    "from matplotlib import pyplot as plt\n",
    "\n",
    "\n",
    "# Load the 'ransom.csv' into a DataFrame\n",
    "data_frame = pd.read_csv(\"C:/pythonBasico/data.csv\")\n",
    "plt.splot(data_frame.Duration,data_frame.Calories)\n",
    "plt.xlabel(\"Duration\")\n",
    "plt.ylabel(\"Calories\")      \n",
    "plt.title(\"Título do gráfico\")\n",
    "plt.show()\n"
   ]
  },
  {
   "cell_type": "markdown",
   "metadata": {},
   "source": [
    "### Legends e styles"
   ]
  },
  {
   "cell_type": "code",
   "execution_count": null,
   "metadata": {},
   "outputs": [],
   "source": [
    "import pandas as pd\n",
    "from matplotlib import pyplot as plt\n",
    "\n",
    "atacado_dictionary={\"mes\":[\"Janeiro\",\"Fevereiro\", \"Março\",\"Abril\",\"Maio\",\"Junho\"], \"valor\":[2.0,1.7,2.0,1.9,2.2,2.2]}\n",
    "varejo_dictionary={\"mes\":[\"Janeiro\",\"Fevereiro\", \"Março\",\"Abril\",\"Maio\",\"Junho\"],  \"valor\":[2.2,1.9,1.8,2.0,2.3,1.7]}\n",
    "atacado = pd.DataFrame(atacado_dictionary)\n",
    "varejo = pd.DataFrame(varejo_dictionary)\n",
    "plt.style.use('seaborn')\n",
    "plt.plot(atacado.mes,atacado.valor,label=\"Vendas no atacado\", color=\"#FACC2E\", linewidth=2, linestyle=\"--\", marker=\"o\")  \n",
    "plt.plot(varejo.mes,varejo.valor,label=\"Vendas no varejo\", color=\"#2E64FE\", linewidth=2, linestyle=\":\", marker=\"d\")\n",
    "plt.xlabel(\"Mês\")\n",
    "plt.ylabel(\"R$ em milhões\")\n",
    "plt.legend()\n",
    "plt.show()\n"
   ]
  },
  {
   "cell_type": "markdown",
   "metadata": {},
   "source": [
    "### Scatter"
   ]
  },
  {
   "cell_type": "code",
   "execution_count": null,
   "metadata": {},
   "outputs": [],
   "source": [
    "import pandas as pd\n",
    "from matplotlib import pyplot as plt\n",
    "\n"
   ]
  }
 ],
 "metadata": {
  "kernelspec": {
   "display_name": "Python 3",
   "language": "python",
   "name": "python3"
  },
  "language_info": {
   "codemirror_mode": {
    "name": "ipython",
    "version": 3
   },
   "file_extension": ".py",
   "mimetype": "text/x-python",
   "name": "python",
   "nbconvert_exporter": "python",
   "pygments_lexer": "ipython3",
   "version": "3.11.2"
  },
  "orig_nbformat": 4
 },
 "nbformat": 4,
 "nbformat_minor": 2
}
