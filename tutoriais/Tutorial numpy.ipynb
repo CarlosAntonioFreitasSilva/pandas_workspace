{
 "cells": [
  {
   "cell_type": "code",
   "execution_count": null,
   "metadata": {},
   "outputs": [],
   "source": []
  },
  {
   "cell_type": "code",
   "execution_count": null,
   "metadata": {},
   "outputs": [],
   "source": [
    "import numpy as np\n",
    "import matplotlib.pylab as plt\n",
    "# x = np.linspace(-2, 2, 201)\n",
    "# plt.plot(x,np.sin(x))\n",
    "# plt.xlabel('x')\n",
    "# plt.ylabel('sin(x)')\n",
    "# plt.axis('tight')\n",
    "# plt.show()\n",
    "\n",
    "t = np.linspace(0,2*np.pi)\n",
    "plt.plot(np.sin(t),np.cos(t))\n",
    "plt.show()"
   ]
  },
  {
   "cell_type": "code",
   "execution_count": null,
   "metadata": {},
   "outputs": [],
   "source": [
    "import numpy as np\n",
    "import matplotlib.pylab as plt\n",
    "\n",
    "t = np.linspace(1,10)\n",
    "dt=0.2\n",
    "\n",
    "x1=0.64\n",
    "x2=-0.43\n",
    "x3=0.63\n",
    "X=[[x1,x2,x3]]\n",
    "\n",
    "\n",
    "# Convexo K\n",
    "k1=0.5*np.cos(t)+0.25\n",
    "k2=0.5*np.sin(t)\n",
    "k3=np.sqrt(1-k1**2-k2**2)\n",
    "\n",
    "A=[]\n",
    "# Projeção sobre K\n",
    "for i in t:\n",
    "    A.append(np.arccos((0.5*np.cos(i)+0.25)*x1+(0.5*np.sin(i))*x2+(np.sqrt(1-(0.5*np.cos(i)+0.25)**2-(0.5*np.sin(i))**2))*x3))\n",
    "\n",
    "tmin=t[A.index(min(np.array(A)))]\n",
    "print(tmin)\n",
    "\n",
    "\n",
    "comprimentoDeArco=np.arccos(x1*k1+x2*k2+x3*k3)\n",
    "\n",
    "#Convexo U\n",
    "u1=0.5*np.cos(t)-0.25\n",
    "u2=0.5*np.sin(t)\n",
    "u3=np.sqrt(1-k1**2-k2**2)\n",
    "\n",
    "plt.plot(t,np.arccos(x1*k1+x2*k2+x3*k3))\n",
    "plt.plot(t,np.arccos(x1*u1+x2*u2+x3*u3))\n",
    "plt.show()\n",
    "\n"
   ]
  }
 ],
 "metadata": {
  "language_info": {
   "name": "python"
  },
  "orig_nbformat": 4
 },
 "nbformat": 4,
 "nbformat_minor": 2
}
